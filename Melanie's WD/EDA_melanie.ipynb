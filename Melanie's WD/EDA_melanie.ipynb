{
 "cells": [
  {
   "cell_type": "code",
   "execution_count": 5,
   "metadata": {},
   "outputs": [],
   "source": [
    "import sqlite3\n",
    "import pandas as pd\n",
    "import numpy as np\n",
    "from matplotlib import pyplot as plt\n",
    "import seaborn as sns"
   ]
  },
  {
   "cell_type": "code",
   "execution_count": null,
   "metadata": {},
   "outputs": [],
   "source": [
    "# # Read sqlite query results into a pandas DataFrame\n",
    "# con = sqlite3.connect(\"../Data/citibike.sqlite\")\n",
    "# df = pd.read_sql_query(\"SELECT * FROM allrides where date(starttime)==strftime(\"2019-07-01\"), con)\n",
    "\n",
    "# # Verify that result of SQL query is stored in the dataframe\n",
    "# print(df.head())\n",
    "\n",
    "# con.close()"
   ]
  },
  {
   "cell_type": "code",
   "execution_count": 2,
   "metadata": {},
   "outputs": [],
   "source": [
    "sample = pd.read_csv('../Data/allrides_sample2.csv')\n",
    "stations = pd.read_csv('../Data/live_stations.csv')"
   ]
  },
  {
   "cell_type": "code",
   "execution_count": 3,
   "metadata": {},
   "outputs": [
    {
     "name": "stdout",
     "output_type": "stream",
     "text": [
      "(1001, 4)\n",
      "(895,)\n",
      "(927,)\n",
      "(922,)\n"
     ]
    }
   ],
   "source": [
    "stations = pd.read_csv('../Data/live_stations.csv')\n",
    "print(stations.shape)\n",
    "print(stations.station_id.unique().shape)\n",
    "print(stations.station_lat.unique().shape)\n",
    "print(stations.station_long.unique().shape)"
   ]
  },
  {
   "cell_type": "markdown",
   "metadata": {},
   "source": [
    "#### <i>problem 1: start station id has potentially non-unqiue names and lat & long information"
   ]
  },
  {
   "cell_type": "code",
   "execution_count": 4,
   "metadata": {},
   "outputs": [
    {
     "name": "stdout",
     "output_type": "stream",
     "text": [
      "sample size: (2000000, 15)\n",
      "sample columns: Index(['tripduration', 'starttime', 'stoptime', 'start station id',\n",
      "       'start station name', 'start station latitude',\n",
      "       'start station longitude', 'end station id', 'end station name',\n",
      "       'end station latitude', 'end station longitude', 'bikeid', 'usertype',\n",
      "       'birth year', 'gender'],\n",
      "      dtype='object')\n"
     ]
    }
   ],
   "source": [
    "print(f'sample size: {sample.shape}')\n",
    "print(f'sample columns: {sample.columns}')"
   ]
  },
  {
   "cell_type": "markdown",
   "metadata": {},
   "source": [
    "### transform Dates"
   ]
  },
  {
   "cell_type": "code",
   "execution_count": 7,
   "metadata": {},
   "outputs": [],
   "source": [
    "def reformat_date(df):\n",
    "    datecol=['starttime','stoptime']\n",
    "    for col in datecol:\n",
    "        df[col]=pd.to_datetime(sample[col])\n",
    "        hourcol=col+'_hour'\n",
    "        mincol=col+'_min'\n",
    "        datecol=col+'_date'\n",
    "        df[datecol]=df[col].dt.date\n",
    "        df[hourcol]=df[col].dt.hour\n",
    "        df[mincol]=df[col].dt.minute\n",
    "        df[mincol]=df[mincol].apply(lambda x: 0 if x < 30 else 30)\n",
    "    df['season']=df['starttime'].dt.month.apply(lambda x: 'winter' if x <=2 else 'spring' if x<=5 else \n",
    "                                              'summer' if x<=8 else 'fall' if x<=11 else 'winter')\n",
    "    df['dayofweek']=df['starttime'].dt.weekday\n",
    "    df['year']=df['starttime'].dt.year"
   ]
  },
  {
   "cell_type": "code",
   "execution_count": 8,
   "metadata": {},
   "outputs": [],
   "source": [
    "reformat_date(sample)"
   ]
  },
  {
   "cell_type": "code",
   "execution_count": 9,
   "metadata": {},
   "outputs": [
    {
     "data": {
      "text/plain": [
       "Index(['tripduration', 'starttime', 'stoptime', 'start station id',\n",
       "       'start station name', 'start station latitude',\n",
       "       'start station longitude', 'end station id', 'end station name',\n",
       "       'end station latitude', 'end station longitude', 'bikeid', 'usertype',\n",
       "       'birth year', 'gender', 'starttime_date', 'starttime_hour',\n",
       "       'starttime_min', 'stoptime_date', 'stoptime_hour', 'stoptime_min',\n",
       "       'season', 'dayofweek', 'year'],\n",
       "      dtype='object')"
      ]
     },
     "execution_count": 9,
     "metadata": {},
     "output_type": "execute_result"
    }
   ],
   "source": [
    "sample.columns"
   ]
  },
  {
   "cell_type": "markdown",
   "metadata": {},
   "source": [
    "### Remove rides from or to old bike stations that no longer exist as of 2019-12-01."
   ]
  },
  {
   "cell_type": "code",
   "execution_count": 82,
   "metadata": {},
   "outputs": [
    {
     "data": {
      "text/plain": [
       "(1968818, 24)"
      ]
     },
     "execution_count": 82,
     "metadata": {},
     "output_type": "execute_result"
    }
   ],
   "source": [
    "sample_new=sample[sample['start station id'].isin(stations.station_id.unique().tolist())]\n",
    "sample_new=sample[sample['end station id'].isin(stations.station_id.unique().tolist())]\n",
    "sample_new=sample[sample['year']!=2020]\n",
    "sample_new.shape"
   ]
  },
  {
   "cell_type": "code",
   "execution_count": 11,
   "metadata": {},
   "outputs": [],
   "source": [
    "temp=pd.DataFrame(sample_new.groupby('year')['start station id'].unique())\n",
    "temp['count']=temp['start station id'].apply(lambda x: len(x))"
   ]
  },
  {
   "cell_type": "code",
   "execution_count": 12,
   "metadata": {},
   "outputs": [
    {
     "data": {
      "text/html": [
       "<div>\n",
       "<style scoped>\n",
       "    .dataframe tbody tr th:only-of-type {\n",
       "        vertical-align: middle;\n",
       "    }\n",
       "\n",
       "    .dataframe tbody tr th {\n",
       "        vertical-align: top;\n",
       "    }\n",
       "\n",
       "    .dataframe thead th {\n",
       "        text-align: right;\n",
       "    }\n",
       "</style>\n",
       "<table border=\"1\" class=\"dataframe\">\n",
       "  <thead>\n",
       "    <tr style=\"text-align: right;\">\n",
       "      <th></th>\n",
       "      <th>start station id</th>\n",
       "      <th>count</th>\n",
       "    </tr>\n",
       "    <tr>\n",
       "      <th>year</th>\n",
       "      <th></th>\n",
       "      <th></th>\n",
       "    </tr>\n",
       "  </thead>\n",
       "  <tbody>\n",
       "    <tr>\n",
       "      <td>2015</td>\n",
       "      <td>[368.0, 526.0, 417.0, 446.0, 361.0, 377.0, 489...</td>\n",
       "      <td>485</td>\n",
       "    </tr>\n",
       "    <tr>\n",
       "      <td>2016</td>\n",
       "      <td>[417.0, 3085.0, 261.0, 307.0, 3256.0, 268.0, 1...</td>\n",
       "      <td>638</td>\n",
       "    </tr>\n",
       "    <tr>\n",
       "      <td>2017</td>\n",
       "      <td>[3348.0, 523.0, 442.0, 304.0, 498.0, 3344.0, 3...</td>\n",
       "      <td>790</td>\n",
       "    </tr>\n",
       "    <tr>\n",
       "      <td>2018</td>\n",
       "      <td>[3177.0, 3258.0, 398.0, 3656.0, 267.0, 3686.0,...</td>\n",
       "      <td>805</td>\n",
       "    </tr>\n",
       "    <tr>\n",
       "      <td>2019</td>\n",
       "      <td>[3314.0, 3072.0, 3056.0, 212.0, 3749.0, 514.0,...</td>\n",
       "      <td>924</td>\n",
       "    </tr>\n",
       "    <tr>\n",
       "      <td>2020</td>\n",
       "      <td>[258.0, 3161.0, 493.0, 3058.0, 3078.0, 3242.0,...</td>\n",
       "      <td>875</td>\n",
       "    </tr>\n",
       "  </tbody>\n",
       "</table>\n",
       "</div>"
      ],
      "text/plain": [
       "                                       start station id  count\n",
       "year                                                          \n",
       "2015  [368.0, 526.0, 417.0, 446.0, 361.0, 377.0, 489...    485\n",
       "2016  [417.0, 3085.0, 261.0, 307.0, 3256.0, 268.0, 1...    638\n",
       "2017  [3348.0, 523.0, 442.0, 304.0, 498.0, 3344.0, 3...    790\n",
       "2018  [3177.0, 3258.0, 398.0, 3656.0, 267.0, 3686.0,...    805\n",
       "2019  [3314.0, 3072.0, 3056.0, 212.0, 3749.0, 514.0,...    924\n",
       "2020  [258.0, 3161.0, 493.0, 3058.0, 3078.0, 3242.0,...    875"
      ]
     },
     "execution_count": 12,
     "metadata": {},
     "output_type": "execute_result"
    }
   ],
   "source": [
    "temp"
   ]
  },
  {
   "cell_type": "code",
   "execution_count": null,
   "metadata": {},
   "outputs": [],
   "source": [
    "# fig= plt.figure(figsize=(12,6))\n",
    "# fig, axs = plt.subplots(1, 2)\n",
    "# axs[0].hist(sample2019['starttime_hour'], bins=12)\n",
    "# axs[1].hist(sample2019['starttime_min'])"
   ]
  },
  {
   "cell_type": "markdown",
   "metadata": {},
   "source": [
    "## Visualizing Data"
   ]
  },
  {
   "cell_type": "markdown",
   "metadata": {},
   "source": [
    "### Hourly distribution of rides seem to be very similar across years 2015-2019.\n",
    "<i> this is great because rides do follow some sort of hourly trend.\n",
    "- intuitivelly, the chart below makes sense in term of:\n",
    "    - more rides during weekday.\n",
    "    - more rides during rush hour."
   ]
  },
  {
   "cell_type": "code",
   "execution_count": 84,
   "metadata": {},
   "outputs": [
    {
     "name": "stderr",
     "output_type": "stream",
     "text": [
      "/Users/melaniezheng/opt/anaconda3/lib/python3.7/site-packages/ipykernel_launcher.py:1: SettingWithCopyWarning: \n",
      "A value is trying to be set on a copy of a slice from a DataFrame.\n",
      "Try using .loc[row_indexer,col_indexer] = value instead\n",
      "\n",
      "See the caveats in the documentation: http://pandas.pydata.org/pandas-docs/stable/user_guide/indexing.html#returning-a-view-versus-a-copy\n",
      "  \"\"\"Entry point for launching an IPython kernel.\n"
     ]
    },
    {
     "data": {
      "text/plain": [
       "<matplotlib.axes._subplots.AxesSubplot at 0x12a90ebd0>"
      ]
     },
     "execution_count": 84,
     "metadata": {},
     "output_type": "execute_result"
    },
    {
     "data": {
      "image/png": "[encoded data removed]",
      "text/plain": [
       "<Figure size 864x432 with 1 Axes>"
      ]
     },
     "metadata": {
      "needs_background": "light"
     },
     "output_type": "display_data"
    }
   ],
   "source": [
    "sample_new['season'] = pd.Categorical(sample_new['season'], [\"spring\", \"summer\", \"fall\",\"winter\"])\n",
    "plt.figure(figsize=(12,6))\n",
    "sample_new.sort_values(\"season\").groupby('year')['season'].value_counts().plot.bar()"
   ]
  },
  {
   "cell_type": "code",
   "execution_count": 85,
   "metadata": {},
   "outputs": [
    {
     "data": {
      "text/plain": [
       "<seaborn.axisgrid.FacetGrid at 0x1279b1390>"
      ]
     },
     "execution_count": 85,
     "metadata": {},
     "output_type": "execute_result"
    },
    {
     "data": {
      "image/png": "[encoded data removed]",
      "text/plain": [
       "<Figure size 1080x216 with 5 Axes>"
      ]
     },
     "metadata": {
      "needs_background": "light"
     },
     "output_type": "display_data"
    }
   ],
   "source": [
    "g=sns.FacetGrid(sample_new, col=\"year\", margin_titles=True)\n",
    "g.map(plt.hist, \"dayofweek\", color=\"steelblue\", bins=12)"
   ]
  },
  {
   "cell_type": "code",
   "execution_count": null,
   "metadata": {},
   "outputs": [],
   "source": [
    "g=sns.FacetGrid(sample_new, col=\"year\", margin_titles=True)\n",
    "g.map(plt.hist, \"starttime_hour\", color=\"steelblue\", bins=12)"
   ]
  },
  {
   "cell_type": "code",
   "execution_count": null,
   "metadata": {},
   "outputs": [],
   "source": []
  }
 ],
 "metadata": {
  "kernelspec": {
   "display_name": "Python 3",
   "language": "python",
   "name": "python3"
  },
  "language_info": {
   "codemirror_mode": {
    "name": "ipython",
    "version": 3
   },
   "file_extension": ".py",
   "mimetype": "text/x-python",
   "name": "python",
   "nbconvert_exporter": "python",
   "pygments_lexer": "ipython3",
   "version": "3.7.4"
  }
 },
 "nbformat": 4,
 "nbformat_minor": 2
}
