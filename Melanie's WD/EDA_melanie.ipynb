{
 "cells": [
  {
   "cell_type": "code",
   "execution_count": 75,
   "metadata": {},
   "outputs": [],
   "source": [
    "import sqlite3\n",
    "import pandas as pd\n",
    "import numpy as np"
   ]
  },
  {
   "cell_type": "code",
   "execution_count": null,
   "metadata": {},
   "outputs": [],
   "source": [
    "# # Read sqlite query results into a pandas DataFrame\n",
    "# con = sqlite3.connect(\"../Data/citibike.sqlite\")\n",
    "# df = pd.read_sql_query(\"SELECT * FROM allrides where date(starttime)==strftime(\"2019-07-01\"), con)\n",
    "\n",
    "# # Verify that result of SQL query is stored in the dataframe\n",
    "# print(df.head())\n",
    "\n",
    "# con.close()"
   ]
  },
  {
   "cell_type": "code",
   "execution_count": 104,
   "metadata": {},
   "outputs": [],
   "source": [
    "sample = pd.read_csv('../Data/allrides_sample.csv')"
   ]
  },
  {
   "cell_type": "markdown",
   "metadata": {},
   "source": [
    "- startInterval\n",
    "- endInterval\n"
   ]
  },
  {
   "cell_type": "markdown",
   "metadata": {},
   "source": [
    "### transform Dates"
   ]
  },
  {
   "cell_type": "code",
   "execution_count": 106,
   "metadata": {},
   "outputs": [],
   "source": [
    "def reformat_date(df):\n",
    "    datecol=['starttime','stoptime']\n",
    "    for col in datecol:\n",
    "        df[col]=pd.to_datetime(sample[col])\n",
    "        hourcol=col+'_hour'\n",
    "        mincol=col+'_min'\n",
    "        datecol=col+'_date'\n",
    "        df[datecol]=df[col].dt.date\n",
    "        df[hourcol]=df[col].dt.hour\n",
    "        df[mincol]=df[col].dt.minute\n",
    "        df[mincol]=df[mincol].apply(lambda x: 0 if x < 30 else 30)\n",
    "    df['season']=df['starttime'].dt.month.apply(lambda x: 'winter' if x <=2 else 'spring' if x<=5 else \n",
    "                                              'summer' if x<=8 else 'fall' if x<=11 else 'winter')"
   ]
  },
  {
   "cell_type": "code",
   "execution_count": 107,
   "metadata": {},
   "outputs": [],
   "source": [
    "reformat_date(sample)"
   ]
  },
  {
   "cell_type": "code",
   "execution_count": null,
   "metadata": {},
   "outputs": [],
   "source": []
  }
 ],
 "metadata": {
  "kernelspec": {
   "display_name": "Python 3",
   "language": "python",
   "name": "python3"
  },
  "language_info": {
   "codemirror_mode": {
    "name": "ipython",
    "version": 3
   },
   "file_extension": ".py",
   "mimetype": "text/x-python",
   "name": "python",
   "nbconvert_exporter": "python",
   "pygments_lexer": "ipython3",
   "version": "3.7.4"
  }
 },
 "nbformat": 4,
 "nbformat_minor": 2
}
