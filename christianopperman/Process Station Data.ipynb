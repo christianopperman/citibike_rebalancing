{
 "cells": [
  {
   "cell_type": "code",
   "execution_count": 1,
   "metadata": {},
   "outputs": [],
   "source": [
    "import pandas as pd\n",
    "import numpy as np\n",
    "import re"
   ]
  },
  {
   "cell_type": "code",
   "execution_count": 3,
   "metadata": {},
   "outputs": [
    {
     "name": "stderr",
     "output_type": "stream",
     "text": [
      "/Users/christianopperman/opt/anaconda3/lib/python3.7/site-packages/IPython/core/interactiveshell.py:3058: DtypeWarning: Columns (0,3,6,7,10,12) have mixed types. Specify dtype option on import or set low_memory=False.\n",
      "  interactivity=interactivity, compiler=compiler, result=result)\n"
     ]
    }
   ],
   "source": [
    "stations = pd.read_csv(\"../Data/allstations.csv\")"
   ]
  },
  {
   "cell_type": "code",
   "execution_count": 4,
   "metadata": {},
   "outputs": [
    {
     "data": {
      "text/plain": [
       "Index(['dock_id', 'dock_name', 'date', 'hour', 'minute', 'pm', 'avail_bikes',\n",
       "       'avail_docks', 'tot_docks', '_lat', '_long', 'in_service',\n",
       "       'status_key'],\n",
       "      dtype='object')"
      ]
     },
     "execution_count": 4,
     "metadata": {},
     "output_type": "execute_result"
    }
   ],
   "source": [
    "stations.columns"
   ]
  },
  {
   "cell_type": "code",
   "execution_count": 3,
   "metadata": {},
   "outputs": [],
   "source": [
    "stations_processed = stations.copy()"
   ]
  },
  {
   "cell_type": "markdown",
   "metadata": {},
   "source": [
    "##### Drop rows where the values don't make sense or are incompatible"
   ]
  },
  {
   "cell_type": "code",
   "execution_count": 4,
   "metadata": {},
   "outputs": [
    {
     "name": "stdout",
     "output_type": "stream",
     "text": [
      "Dropping rows, current table shape: (35340507, 13)\n",
      "Finished dropping rows, new table shape: (35143894, 13)\n"
     ]
    }
   ],
   "source": [
    "print(f\"Dropping rows, current table shape: {stations_processed.shape}\")\n",
    "stations_processed.dropna(inplace = True)\n",
    "stations_processed.drop(stations_processed[stations_processed['dock_id'].apply(\n",
    "    lambda x: isinstance(x, str))].index, inplace = True)\n",
    "stations_processed = stations_processed[stations_processed['tot_docks']<2000]\n",
    "print(f\"Finished dropping rows, new table shape: {stations_processed.shape}\")"
   ]
  },
  {
   "cell_type": "markdown",
   "metadata": {},
   "source": [
    "##### Parsing available bikes and docks"
   ]
  },
  {
   "cell_type": "code",
   "execution_count": 5,
   "metadata": {},
   "outputs": [],
   "source": [
    "# Parsing availabile bikes\n",
    "mask = ~stations_processed['avail_bikes'].astype(str).str.contains('[A-z]')\n",
    "stations_processed = stations_processed[mask]\n",
    "stations_processed['avail_bikes'] = stations_processed['avail_bikes'].apply(lambda x: re.sub(\"\\\"\", \"\", str(x))) # Remove quotation marks so strings can be converted to integers later\n",
    "stations_processed = stations_processed[stations_processed['avail_bikes']!=\"\"] # Drop any empty values\n",
    "stations_processed['avail_bikes'] = stations_processed['avail_bikes'].astype(float).astype(int) # Convert strings to integers\n",
    "stations_processed = stations_processed[stations_processed['avail_bikes']<=100] # Remove any row with an impossible number of bikes\n",
    "\n",
    "# Parsing available docks\n",
    "mask = ~stations_processed['avail_docks'].astype(str).str.contains('[A-z]')\n",
    "stations_processed = stations_processed[mask]\n",
    "stations_processed['avail_docks'] = stations_processed['avail_docks'].apply(lambda x: re.sub(\"\\\"\", \"\", str(x))) # Remove quotation marks so strings can be converted to integers later\n",
    "stations_processed = stations_processed[stations_processed['avail_docks']!=\"\"] # Drop any empty values\n",
    "stations_processed['avail_docks'] = stations_processed['avail_docks'].astype(float).astype(int) # Convert strings to integers\n",
    "stations_processed = stations_processed[stations_processed['avail_docks']<=100] # Remove any row with an impossible number of bikes"
   ]
  },
  {
   "cell_type": "code",
   "execution_count": 6,
   "metadata": {},
   "outputs": [
    {
     "data": {
      "text/plain": [
       "(35143887, 13)"
      ]
     },
     "execution_count": 6,
     "metadata": {},
     "output_type": "execute_result"
    }
   ],
   "source": [
    "stations_processed.shape"
   ]
  },
  {
   "cell_type": "markdown",
   "metadata": {},
   "source": [
    "##### Parse date column into datetime format"
   ]
  },
  {
   "cell_type": "code",
   "execution_count": 7,
   "metadata": {},
   "outputs": [],
   "source": [
    "stations_processed['date'] = pd.to_datetime(stations_processed['date'], format='\"%y-%m-%d\"')"
   ]
  },
  {
   "cell_type": "markdown",
   "metadata": {},
   "source": [
    "##### Convert numeric columns from strings to integers/floats as appropriate"
   ]
  },
  {
   "cell_type": "code",
   "execution_count": 8,
   "metadata": {},
   "outputs": [
    {
     "name": "stderr",
     "output_type": "stream",
     "text": [
      "/Users/christianopperman/opt/anaconda3/lib/python3.7/site-packages/pandas/core/indexing.py:205: SettingWithCopyWarning: \n",
      "A value is trying to be set on a copy of a slice from a DataFrame\n",
      "\n",
      "See the caveats in the documentation: http://pandas.pydata.org/pandas-docs/stable/user_guide/indexing.html#returning-a-view-versus-a-copy\n",
      "  self._setitem_with_indexer(indexer, value)\n"
     ]
    }
   ],
   "source": [
    "stations_processed['dock_id'] = stations_processed['dock_id'].astype(int)\n",
    "stations_processed['tot_docks'] = stations_processed['tot_docks'].astype(int)\n",
    "stations_processed['minute'] = stations_processed['minute'].astype(int)\n",
    "\n",
    "stations_processed['_lat'] = stations_processed['_lat'].apply(lambda x: float(re.sub('\\\"', \"\", str(x))))\n",
    "stations_processed['_long'] = stations_processed['_long'].apply(\n",
    "    lambda x: re.sub('[^-^.0-9]', \"\", str(x))).apply(lambda x: re.sub(\"-{2}\", \"-\", str(x)))\n",
    "stations_processed = stations_processed[stations_processed['_long']!=\"\"]\n",
    "stations_processed['_long'].astype(float)\n",
    "\n",
    "stations_processed['hour'] = stations_processed['hour'].apply(lambda x: re.sub('[^0-9]', \"\", str(x))).astype(int)\n",
    "stations_processed['hour'].loc[stations_processed['pm']==1] = stations_processed['hour'].loc[stations_processed['pm']==1] + 12 # Convert hours to 24-hour time"
   ]
  },
  {
   "cell_type": "markdown",
   "metadata": {},
   "source": [
    "##### Convert minutes to half hour increments"
   ]
  },
  {
   "cell_type": "code",
   "execution_count": 29,
   "metadata": {},
   "outputs": [],
   "source": [
    "stations_processed['minute'] = stations_processed['minute'].apply(lambda x: '00' if x < 30 else '30')"
   ]
  },
  {
   "cell_type": "markdown",
   "metadata": {},
   "source": [
    "##### Remove quotations from dock name"
   ]
  },
  {
   "cell_type": "code",
   "execution_count": 10,
   "metadata": {},
   "outputs": [],
   "source": [
    "stations_processed['dock_name'] = stations_processed['dock_name'].apply(lambda x: str(re.sub('\\\"', \"\", x)))"
   ]
  },
  {
   "cell_type": "markdown",
   "metadata": {},
   "source": [
    "##### Create a depletion status column"
   ]
  },
  {
   "cell_type": "code",
   "execution_count": 11,
   "metadata": {},
   "outputs": [],
   "source": [
    "stations_processed['depletion_status'] = (stations_processed['avail_bikes']/stations_processed['tot_docks']).apply(\n",
    "        lambda x: \"Full Risk\" if x > 2/3 else \"Empty Risk\" if x < 1/3 else \"Healthy\")"
   ]
  },
  {
   "cell_type": "markdown",
   "metadata": {},
   "source": [
    "##### Drop unnecessary columns"
   ]
  },
  {
   "cell_type": "code",
   "execution_count": 12,
   "metadata": {},
   "outputs": [],
   "source": [
    "stations_processed.drop(['pm', 'in_service', 'status_key'], axis=1, inplace = True)"
   ]
  },
  {
   "cell_type": "code",
   "execution_count": 13,
   "metadata": {},
   "outputs": [
    {
     "data": {
      "text/html": [
       "<div>\n",
       "<style scoped>\n",
       "    .dataframe tbody tr th:only-of-type {\n",
       "        vertical-align: middle;\n",
       "    }\n",
       "\n",
       "    .dataframe tbody tr th {\n",
       "        vertical-align: top;\n",
       "    }\n",
       "\n",
       "    .dataframe thead th {\n",
       "        text-align: right;\n",
       "    }\n",
       "</style>\n",
       "<table border=\"1\" class=\"dataframe\">\n",
       "  <thead>\n",
       "    <tr style=\"text-align: right;\">\n",
       "      <th></th>\n",
       "      <th>dock_id</th>\n",
       "      <th>dock_name</th>\n",
       "      <th>date</th>\n",
       "      <th>hour</th>\n",
       "      <th>minute</th>\n",
       "      <th>avail_bikes</th>\n",
       "      <th>avail_docks</th>\n",
       "      <th>tot_docks</th>\n",
       "      <th>_lat</th>\n",
       "      <th>_long</th>\n",
       "      <th>depletion_status</th>\n",
       "    </tr>\n",
       "  </thead>\n",
       "  <tbody>\n",
       "    <tr>\n",
       "      <td>0</td>\n",
       "      <td>116</td>\n",
       "      <td>W 17 St &amp; 8 Ave</td>\n",
       "      <td>2015-04-02</td>\n",
       "      <td>14</td>\n",
       "      <td>30</td>\n",
       "      <td>5</td>\n",
       "      <td>32</td>\n",
       "      <td>32</td>\n",
       "      <td>40.741776</td>\n",
       "      <td>-74.00149746</td>\n",
       "      <td>Empty Risk</td>\n",
       "    </tr>\n",
       "    <tr>\n",
       "      <td>1</td>\n",
       "      <td>116</td>\n",
       "      <td>W 17 St &amp; 8 Ave</td>\n",
       "      <td>2015-04-02</td>\n",
       "      <td>15</td>\n",
       "      <td>0</td>\n",
       "      <td>1</td>\n",
       "      <td>36</td>\n",
       "      <td>36</td>\n",
       "      <td>40.741776</td>\n",
       "      <td>-74.00149746</td>\n",
       "      <td>Empty Risk</td>\n",
       "    </tr>\n",
       "    <tr>\n",
       "      <td>2</td>\n",
       "      <td>116</td>\n",
       "      <td>W 17 St &amp; 8 Ave</td>\n",
       "      <td>2015-04-02</td>\n",
       "      <td>15</td>\n",
       "      <td>0</td>\n",
       "      <td>2</td>\n",
       "      <td>35</td>\n",
       "      <td>35</td>\n",
       "      <td>40.741776</td>\n",
       "      <td>-74.00149746</td>\n",
       "      <td>Empty Risk</td>\n",
       "    </tr>\n",
       "    <tr>\n",
       "      <td>3</td>\n",
       "      <td>116</td>\n",
       "      <td>W 17 St &amp; 8 Ave</td>\n",
       "      <td>2015-04-02</td>\n",
       "      <td>15</td>\n",
       "      <td>0</td>\n",
       "      <td>3</td>\n",
       "      <td>34</td>\n",
       "      <td>34</td>\n",
       "      <td>40.741776</td>\n",
       "      <td>-74.00149746</td>\n",
       "      <td>Empty Risk</td>\n",
       "    </tr>\n",
       "    <tr>\n",
       "      <td>4</td>\n",
       "      <td>116</td>\n",
       "      <td>W 17 St &amp; 8 Ave</td>\n",
       "      <td>2015-04-02</td>\n",
       "      <td>15</td>\n",
       "      <td>30</td>\n",
       "      <td>2</td>\n",
       "      <td>35</td>\n",
       "      <td>35</td>\n",
       "      <td>40.741776</td>\n",
       "      <td>-74.00149746</td>\n",
       "      <td>Empty Risk</td>\n",
       "    </tr>\n",
       "  </tbody>\n",
       "</table>\n",
       "</div>"
      ],
      "text/plain": [
       "   dock_id        dock_name       date  hour  minute  avail_bikes  \\\n",
       "0      116  W 17 St & 8 Ave 2015-04-02    14      30            5   \n",
       "1      116  W 17 St & 8 Ave 2015-04-02    15       0            1   \n",
       "2      116  W 17 St & 8 Ave 2015-04-02    15       0            2   \n",
       "3      116  W 17 St & 8 Ave 2015-04-02    15       0            3   \n",
       "4      116  W 17 St & 8 Ave 2015-04-02    15      30            2   \n",
       "\n",
       "   avail_docks  tot_docks       _lat         _long depletion_status  \n",
       "0           32         32  40.741776  -74.00149746       Empty Risk  \n",
       "1           36         36  40.741776  -74.00149746       Empty Risk  \n",
       "2           35         35  40.741776  -74.00149746       Empty Risk  \n",
       "3           34         34  40.741776  -74.00149746       Empty Risk  \n",
       "4           35         35  40.741776  -74.00149746       Empty Risk  "
      ]
     },
     "execution_count": 13,
     "metadata": {},
     "output_type": "execute_result"
    }
   ],
   "source": [
    "stations_processed.head()"
   ]
  },
  {
   "cell_type": "code",
   "execution_count": 14,
   "metadata": {},
   "outputs": [
    {
     "data": {
      "text/plain": [
       "(35143886, 11)"
      ]
     },
     "execution_count": 14,
     "metadata": {},
     "output_type": "execute_result"
    }
   ],
   "source": [
    "stations_processed.shape"
   ]
  },
  {
   "cell_type": "code",
   "execution_count": 15,
   "metadata": {},
   "outputs": [
    {
     "data": {
      "text/plain": [
       "dock_id                      int64\n",
       "dock_name                   object\n",
       "date                datetime64[ns]\n",
       "hour                         int64\n",
       "minute                       int64\n",
       "avail_bikes                  int64\n",
       "avail_docks                  int64\n",
       "tot_docks                    int64\n",
       "_lat                       float64\n",
       "_long                       object\n",
       "depletion_status            object\n",
       "dtype: object"
      ]
     },
     "execution_count": 15,
     "metadata": {},
     "output_type": "execute_result"
    }
   ],
   "source": [
    "stations_processed.dtypes"
   ]
  },
  {
   "cell_type": "code",
   "execution_count": null,
   "metadata": {},
   "outputs": [],
   "source": []
  },
  {
   "cell_type": "code",
   "execution_count": null,
   "metadata": {},
   "outputs": [],
   "source": []
  },
  {
   "cell_type": "code",
   "execution_count": null,
   "metadata": {},
   "outputs": [],
   "source": [
    "df['season']=df['starttime'].dt.month.apply(lambda x: 'winter' if x <=2 else 'spring' if x<=5 else \n",
    "                                              'summer' if x<=8 else 'fall' if x<=11 else 'winter')"
   ]
  },
  {
   "cell_type": "code",
   "execution_count": 30,
   "metadata": {},
   "outputs": [
    {
     "data": {
      "text/html": [
       "<div>\n",
       "<style scoped>\n",
       "    .dataframe tbody tr th:only-of-type {\n",
       "        vertical-align: middle;\n",
       "    }\n",
       "\n",
       "    .dataframe tbody tr th {\n",
       "        vertical-align: top;\n",
       "    }\n",
       "\n",
       "    .dataframe thead th {\n",
       "        text-align: right;\n",
       "    }\n",
       "</style>\n",
       "<table border=\"1\" class=\"dataframe\">\n",
       "  <thead>\n",
       "    <tr style=\"text-align: right;\">\n",
       "      <th></th>\n",
       "      <th>dock_id</th>\n",
       "      <th>dock_name</th>\n",
       "      <th>date</th>\n",
       "      <th>hour</th>\n",
       "      <th>minute</th>\n",
       "      <th>avail_bikes</th>\n",
       "      <th>avail_docks</th>\n",
       "      <th>tot_docks</th>\n",
       "      <th>_lat</th>\n",
       "      <th>_long</th>\n",
       "      <th>depletion_status</th>\n",
       "    </tr>\n",
       "  </thead>\n",
       "  <tbody>\n",
       "    <tr>\n",
       "      <td>0</td>\n",
       "      <td>116</td>\n",
       "      <td>W 17 St &amp; 8 Ave</td>\n",
       "      <td>2015-04-02</td>\n",
       "      <td>14</td>\n",
       "      <td>30</td>\n",
       "      <td>5</td>\n",
       "      <td>32</td>\n",
       "      <td>32</td>\n",
       "      <td>40.741776</td>\n",
       "      <td>-74.00149746</td>\n",
       "      <td>Empty Risk</td>\n",
       "    </tr>\n",
       "    <tr>\n",
       "      <td>1</td>\n",
       "      <td>116</td>\n",
       "      <td>W 17 St &amp; 8 Ave</td>\n",
       "      <td>2015-04-02</td>\n",
       "      <td>15</td>\n",
       "      <td>00</td>\n",
       "      <td>1</td>\n",
       "      <td>36</td>\n",
       "      <td>36</td>\n",
       "      <td>40.741776</td>\n",
       "      <td>-74.00149746</td>\n",
       "      <td>Empty Risk</td>\n",
       "    </tr>\n",
       "    <tr>\n",
       "      <td>2</td>\n",
       "      <td>116</td>\n",
       "      <td>W 17 St &amp; 8 Ave</td>\n",
       "      <td>2015-04-02</td>\n",
       "      <td>15</td>\n",
       "      <td>00</td>\n",
       "      <td>2</td>\n",
       "      <td>35</td>\n",
       "      <td>35</td>\n",
       "      <td>40.741776</td>\n",
       "      <td>-74.00149746</td>\n",
       "      <td>Empty Risk</td>\n",
       "    </tr>\n",
       "    <tr>\n",
       "      <td>3</td>\n",
       "      <td>116</td>\n",
       "      <td>W 17 St &amp; 8 Ave</td>\n",
       "      <td>2015-04-02</td>\n",
       "      <td>15</td>\n",
       "      <td>00</td>\n",
       "      <td>3</td>\n",
       "      <td>34</td>\n",
       "      <td>34</td>\n",
       "      <td>40.741776</td>\n",
       "      <td>-74.00149746</td>\n",
       "      <td>Empty Risk</td>\n",
       "    </tr>\n",
       "    <tr>\n",
       "      <td>4</td>\n",
       "      <td>116</td>\n",
       "      <td>W 17 St &amp; 8 Ave</td>\n",
       "      <td>2015-04-02</td>\n",
       "      <td>15</td>\n",
       "      <td>30</td>\n",
       "      <td>2</td>\n",
       "      <td>35</td>\n",
       "      <td>35</td>\n",
       "      <td>40.741776</td>\n",
       "      <td>-74.00149746</td>\n",
       "      <td>Empty Risk</td>\n",
       "    </tr>\n",
       "  </tbody>\n",
       "</table>\n",
       "</div>"
      ],
      "text/plain": [
       "   dock_id        dock_name       date  hour minute  avail_bikes  avail_docks  \\\n",
       "0      116  W 17 St & 8 Ave 2015-04-02    14     30            5           32   \n",
       "1      116  W 17 St & 8 Ave 2015-04-02    15     00            1           36   \n",
       "2      116  W 17 St & 8 Ave 2015-04-02    15     00            2           35   \n",
       "3      116  W 17 St & 8 Ave 2015-04-02    15     00            3           34   \n",
       "4      116  W 17 St & 8 Ave 2015-04-02    15     30            2           35   \n",
       "\n",
       "   tot_docks       _lat         _long depletion_status  \n",
       "0         32  40.741776  -74.00149746       Empty Risk  \n",
       "1         36  40.741776  -74.00149746       Empty Risk  \n",
       "2         35  40.741776  -74.00149746       Empty Risk  \n",
       "3         34  40.741776  -74.00149746       Empty Risk  \n",
       "4         35  40.741776  -74.00149746       Empty Risk  "
      ]
     },
     "execution_count": 30,
     "metadata": {},
     "output_type": "execute_result"
    }
   ],
   "source": [
    "stations_processed.head()"
   ]
  },
  {
   "cell_type": "code",
   "execution_count": 39,
   "metadata": {},
   "outputs": [],
   "source": [
    "stations_processed = stations_processed.assign(time = lambda x: x['hour'].astype(str) + \":\" + x['minute'].astype(str))\n",
    "stations_processed = stations_processed.assign(dayofweek = lambda x: x['date'].dt.weekday)\n",
    "stations_processed = stations_processed.assign(season = lambda x: x['date'].dt.month.apply(\n",
    "    lambda y: 'winter' if y <= 2 else 'spring' if y <= 5 else 'summer' if y <= 8 else 'fall' if y <= 11 else 'winter'))"
   ]
  },
  {
   "cell_type": "code",
   "execution_count": 42,
   "metadata": {},
   "outputs": [
    {
     "data": {
      "text/html": [
       "<div>\n",
       "<style scoped>\n",
       "    .dataframe tbody tr th:only-of-type {\n",
       "        vertical-align: middle;\n",
       "    }\n",
       "\n",
       "    .dataframe tbody tr th {\n",
       "        vertical-align: top;\n",
       "    }\n",
       "\n",
       "    .dataframe thead th {\n",
       "        text-align: right;\n",
       "    }\n",
       "</style>\n",
       "<table border=\"1\" class=\"dataframe\">\n",
       "  <thead>\n",
       "    <tr style=\"text-align: right;\">\n",
       "      <th></th>\n",
       "      <th>dock_id</th>\n",
       "      <th>dock_name</th>\n",
       "      <th>date</th>\n",
       "      <th>hour</th>\n",
       "      <th>minute</th>\n",
       "      <th>avail_bikes</th>\n",
       "      <th>avail_docks</th>\n",
       "      <th>tot_docks</th>\n",
       "      <th>_lat</th>\n",
       "      <th>_long</th>\n",
       "      <th>depletion_status</th>\n",
       "      <th>time</th>\n",
       "      <th>dayofweek</th>\n",
       "      <th>season</th>\n",
       "    </tr>\n",
       "  </thead>\n",
       "  <tbody>\n",
       "    <tr>\n",
       "      <td>0</td>\n",
       "      <td>116</td>\n",
       "      <td>W 17 St &amp; 8 Ave</td>\n",
       "      <td>2015-04-02</td>\n",
       "      <td>14</td>\n",
       "      <td>30</td>\n",
       "      <td>5</td>\n",
       "      <td>32</td>\n",
       "      <td>32</td>\n",
       "      <td>40.741776</td>\n",
       "      <td>-74.00149746</td>\n",
       "      <td>Empty Risk</td>\n",
       "      <td>14:30</td>\n",
       "      <td>3</td>\n",
       "      <td>spring</td>\n",
       "    </tr>\n",
       "    <tr>\n",
       "      <td>1</td>\n",
       "      <td>116</td>\n",
       "      <td>W 17 St &amp; 8 Ave</td>\n",
       "      <td>2015-04-02</td>\n",
       "      <td>15</td>\n",
       "      <td>00</td>\n",
       "      <td>1</td>\n",
       "      <td>36</td>\n",
       "      <td>36</td>\n",
       "      <td>40.741776</td>\n",
       "      <td>-74.00149746</td>\n",
       "      <td>Empty Risk</td>\n",
       "      <td>15:00</td>\n",
       "      <td>3</td>\n",
       "      <td>spring</td>\n",
       "    </tr>\n",
       "    <tr>\n",
       "      <td>2</td>\n",
       "      <td>116</td>\n",
       "      <td>W 17 St &amp; 8 Ave</td>\n",
       "      <td>2015-04-02</td>\n",
       "      <td>15</td>\n",
       "      <td>00</td>\n",
       "      <td>2</td>\n",
       "      <td>35</td>\n",
       "      <td>35</td>\n",
       "      <td>40.741776</td>\n",
       "      <td>-74.00149746</td>\n",
       "      <td>Empty Risk</td>\n",
       "      <td>15:00</td>\n",
       "      <td>3</td>\n",
       "      <td>spring</td>\n",
       "    </tr>\n",
       "    <tr>\n",
       "      <td>3</td>\n",
       "      <td>116</td>\n",
       "      <td>W 17 St &amp; 8 Ave</td>\n",
       "      <td>2015-04-02</td>\n",
       "      <td>15</td>\n",
       "      <td>00</td>\n",
       "      <td>3</td>\n",
       "      <td>34</td>\n",
       "      <td>34</td>\n",
       "      <td>40.741776</td>\n",
       "      <td>-74.00149746</td>\n",
       "      <td>Empty Risk</td>\n",
       "      <td>15:00</td>\n",
       "      <td>3</td>\n",
       "      <td>spring</td>\n",
       "    </tr>\n",
       "    <tr>\n",
       "      <td>4</td>\n",
       "      <td>116</td>\n",
       "      <td>W 17 St &amp; 8 Ave</td>\n",
       "      <td>2015-04-02</td>\n",
       "      <td>15</td>\n",
       "      <td>30</td>\n",
       "      <td>2</td>\n",
       "      <td>35</td>\n",
       "      <td>35</td>\n",
       "      <td>40.741776</td>\n",
       "      <td>-74.00149746</td>\n",
       "      <td>Empty Risk</td>\n",
       "      <td>15:30</td>\n",
       "      <td>3</td>\n",
       "      <td>spring</td>\n",
       "    </tr>\n",
       "  </tbody>\n",
       "</table>\n",
       "</div>"
      ],
      "text/plain": [
       "   dock_id        dock_name       date  hour minute  avail_bikes  avail_docks  \\\n",
       "0      116  W 17 St & 8 Ave 2015-04-02    14     30            5           32   \n",
       "1      116  W 17 St & 8 Ave 2015-04-02    15     00            1           36   \n",
       "2      116  W 17 St & 8 Ave 2015-04-02    15     00            2           35   \n",
       "3      116  W 17 St & 8 Ave 2015-04-02    15     00            3           34   \n",
       "4      116  W 17 St & 8 Ave 2015-04-02    15     30            2           35   \n",
       "\n",
       "   tot_docks       _lat         _long depletion_status   time  dayofweek  \\\n",
       "0         32  40.741776  -74.00149746       Empty Risk  14:30          3   \n",
       "1         36  40.741776  -74.00149746       Empty Risk  15:00          3   \n",
       "2         35  40.741776  -74.00149746       Empty Risk  15:00          3   \n",
       "3         34  40.741776  -74.00149746       Empty Risk  15:00          3   \n",
       "4         35  40.741776  -74.00149746       Empty Risk  15:30          3   \n",
       "\n",
       "   season  \n",
       "0  spring  \n",
       "1  spring  \n",
       "2  spring  \n",
       "3  spring  \n",
       "4  spring  "
      ]
     },
     "execution_count": 42,
     "metadata": {},
     "output_type": "execute_result"
    }
   ],
   "source": [
    "stations_processed.head()"
   ]
  },
  {
   "cell_type": "code",
   "execution_count": 41,
   "metadata": {},
   "outputs": [],
   "source": [
    "stations_processed.to_csv(\"/Users/christianopperman/Dropbox/CitiBike Capstone/allstations_processed.csv\", index = False)"
   ]
  },
  {
   "cell_type": "code",
   "execution_count": null,
   "metadata": {},
   "outputs": [],
   "source": []
  }
 ],
 "metadata": {
  "kernelspec": {
   "display_name": "Python 3",
   "language": "python",
   "name": "python3"
  },
  "language_info": {
   "codemirror_mode": {
    "name": "ipython",
    "version": 3
   },
   "file_extension": ".py",
   "mimetype": "text/x-python",
   "name": "python",
   "nbconvert_exporter": "python",
   "pygments_lexer": "ipython3",
   "version": "3.7.4"
  }
 },
 "nbformat": 4,
 "nbformat_minor": 2
}
