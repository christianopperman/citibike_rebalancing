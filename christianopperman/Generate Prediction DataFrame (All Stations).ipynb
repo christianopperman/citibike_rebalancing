{
 "cells": [
  {
   "cell_type": "code",
   "execution_count": 1,
   "metadata": {},
   "outputs": [],
   "source": [
    "import pandas as pd\n",
    "from sklearn.ensemble import RandomForestClassifier\n",
    "from datetime import datetime\n",
    "from joblib import dump, load"
   ]
  },
  {
   "cell_type": "markdown",
   "metadata": {},
   "source": [
    "##### Import necessary data and machine learning models"
   ]
  },
  {
   "cell_type": "code",
   "execution_count": 2,
   "metadata": {},
   "outputs": [],
   "source": [
    "# Import Random Forest machine learning model and Label Encoder\n",
    "le = load('../Models/seasonencoder.joblib')\n",
    "rf = load('../Models/depletion_status_classifier.joblib')"
   ]
  },
  {
   "cell_type": "code",
   "execution_count": 14,
   "metadata": {},
   "outputs": [],
   "source": [
    "# Import list of currently active stations\n",
    "live_stations = pd.read_csv('../Data/live_stations.csv')\n",
    "# Import bike/slot demand predictions for chosen target datetimes\n",
    "demand_07152020 = pd.read_csv('../Data/bike_demand_prediction2020-07-15 9_00.csv')\n",
    "demand_09102020 = pd.read_csv('../Data/bike_demand_prediction2020-09-10 17_00.csv')\n",
    "demand_11042020 = pd.read_csv('../Data/bike_demand_prediction2020-11-04 13_00.csv')"
   ]
  },
  {
   "cell_type": "markdown",
   "metadata": {},
   "source": [
    "#### Define function to take a date and time and convert it into a dataframe input for prediction"
   ]
  },
  {
   "cell_type": "code",
   "execution_count": 15,
   "metadata": {},
   "outputs": [],
   "source": [
    "def process_input(user_datetime):\n",
    "    # Check to see if the provided date is in the correct format\n",
    "    try:\n",
    "        user_datetime = datetime.strptime(user_datetime, '%m-%d-%Y %H:%M')\n",
    "        print(f\"The provided datetime is: {user_datetime}\")\n",
    "    except:\n",
    "        print(\"The provided datetime was in an incorrect format\")\n",
    "    \n",
    "    # Create a dataframe for prediction input\n",
    "    # Dataframe should be in the format of hour | minute | dayofweek | season\n",
    "    # 'dayofweek' is numeric (0-6) starting on Monday\n",
    "    user_df = pd.DataFrame([[user_datetime.hour, user_datetime.minute, user_datetime.weekday(), user_datetime.month]], columns = [\"hour\", \"minute\", \"dayofweek\", \"season\"])\n",
    "    \n",
    "    # The season column is numeric, corresponding to {0: 'fall', 1: 'spring', 2: 'summer', 3: 'winter'}.\n",
    "    # Convert month to season and then encode it\n",
    "    user_df['season'] = user_df['season'].apply(lambda x: 'winter' if x <=2 else 'spring' if x<=5 else \n",
    "                                              'summer' if x<=8 else 'fall' if x<=11 else 'winter')\n",
    "    user_df['season'] = le.transform(user_df['season'])\n",
    "    return user_df"
   ]
  },
  {
   "cell_type": "markdown",
   "metadata": {},
   "source": [
    "#### Define function to generate a dataframe combining all sation docks and the user-provided datetime information"
   ]
  },
  {
   "cell_type": "code",
   "execution_count": 16,
   "metadata": {},
   "outputs": [],
   "source": [
    "def generate_docks(user_datetime_df):\n",
    "    stations = pd.DataFrame(columns = ['dock_id', 'hour', 'minute', 'dayofweek', 'season'])\n",
    "    # Create a row for each live dock\n",
    "    stations['dock_id'] = live_stations['station_id']\n",
    "    # Initialize the hour, minute, dayofweek, and season for each row\n",
    "    stations.loc[:, 'hour'] = user_datetime_df['hour'][0]\n",
    "    stations.loc[:, 'minute'] = user_datetime_df['minute'][0]\n",
    "    stations.loc[:, 'dayofweek'] = user_datetime_df['dayofweek'][0]\n",
    "    stations.loc[:, 'season'] = user_datetime_df['season'][0]\n",
    "    \n",
    "    return stations"
   ]
  },
  {
   "cell_type": "markdown",
   "metadata": {},
   "source": [
    "#### Define a function to predict station status"
   ]
  },
  {
   "cell_type": "code",
   "execution_count": 17,
   "metadata": {},
   "outputs": [],
   "source": [
    "def predict_status(df):\n",
    "    return rf.predict(df)"
   ]
  },
  {
   "cell_type": "markdown",
   "metadata": {},
   "source": [
    "#### Define a function that takes all the above steps and performs them at once"
   ]
  },
  {
   "cell_type": "code",
   "execution_count": 18,
   "metadata": {},
   "outputs": [],
   "source": [
    "def station_status_pipeline(user_datetime):\n",
    "    user_input = process_input(user_datetime)\n",
    "    status = predict_status(generate_docks(user_input))\n",
    "    final_prediction = pd.DataFrame(\n",
    "        {'station_id': live_stations['station_id'],\n",
    "         'depletion_status': pd.Series(status)})\n",
    "    final_prediction = pd.concat([final_prediction, live_stations[['station_lat', 'station_long']]], axis = 1)\n",
    "    return final_prediction"
   ]
  },
  {
   "cell_type": "markdown",
   "metadata": {},
   "source": [
    "#### Define a function that takes the full prediction pipeline and merges it with the imported bike/slot demand dataframe"
   ]
  },
  {
   "cell_type": "code",
   "execution_count": 19,
   "metadata": {},
   "outputs": [],
   "source": [
    "def all_station_demand(user_datetime, df):\n",
    "    depletion_df = station_status_pipeline(user_datetime)\n",
    "    final_df = df.merge(depletion_df, on = \"station_id\")\n",
    "    final_df = final_df.drop_duplicates(subset = \"station_id\").reset_index().drop(\"index\", axis = 1)\n",
    "    return final_df"
   ]
  },
  {
   "cell_type": "code",
   "execution_count": 20,
   "metadata": {},
   "outputs": [
    {
     "name": "stdout",
     "output_type": "stream",
     "text": [
      "The provided datetime is: 2020-07-15 09:00:00\n",
      "The provided datetime is: 2020-09-10 17:00:00\n"
     ]
    },
    {
     "name": "stderr",
     "output_type": "stream",
     "text": [
      "[Parallel(n_jobs=4)]: Using backend ThreadingBackend with 4 concurrent workers.\n",
      "[Parallel(n_jobs=4)]: Done  42 tasks      | elapsed:    0.0s\n",
      "[Parallel(n_jobs=4)]: Done 100 out of 100 | elapsed:    0.0s finished\n",
      "[Parallel(n_jobs=4)]: Using backend ThreadingBackend with 4 concurrent workers.\n",
      "[Parallel(n_jobs=4)]: Done  42 tasks      | elapsed:    0.3s\n",
      "[Parallel(n_jobs=4)]: Done 100 out of 100 | elapsed:    0.8s finished\n",
      "[Parallel(n_jobs=4)]: Using backend ThreadingBackend with 4 concurrent workers.\n"
     ]
    },
    {
     "name": "stdout",
     "output_type": "stream",
     "text": [
      "The provided datetime is: 2020-11-04 13:00:00\n"
     ]
    },
    {
     "name": "stderr",
     "output_type": "stream",
     "text": [
      "[Parallel(n_jobs=4)]: Done  42 tasks      | elapsed:    0.2s\n",
      "[Parallel(n_jobs=4)]: Done 100 out of 100 | elapsed:    0.5s finished\n"
     ]
    }
   ],
   "source": [
    "prediction_07152020 = all_station_demand('7-15-2020 9:00', demand_07152020)\n",
    "prediction_09102020 = all_station_demand('9-10-2020 17:00', demand_09102020)\n",
    "prediction_11042020 = all_station_demand('11-04-2020 13:00', demand_11042020)"
   ]
  },
  {
   "cell_type": "code",
   "execution_count": 21,
   "metadata": {},
   "outputs": [],
   "source": [
    "# Save final dataframe to a .csv file for later use\n",
    "prediction_07152020.to_csv('../Data/station_predictions_07152020.csv', index = False)\n",
    "prediction_09102020.to_csv('../Data/station_predictions_09102020.csv', index = False)\n",
    "prediction_11042020.to_csv('../Data/station_predictions_11042020.csv', index = False)"
   ]
  },
  {
   "cell_type": "code",
   "execution_count": null,
   "metadata": {},
   "outputs": [],
   "source": []
  }
 ],
 "metadata": {
  "kernelspec": {
   "display_name": "Python 3",
   "language": "python",
   "name": "python3"
  },
  "language_info": {
   "codemirror_mode": {
    "name": "ipython",
    "version": 3
   },
   "file_extension": ".py",
   "mimetype": "text/x-python",
   "name": "python",
   "nbconvert_exporter": "python",
   "pygments_lexer": "ipython3",
   "version": "3.7.4"
  }
 },
 "nbformat": 4,
 "nbformat_minor": 2
}
